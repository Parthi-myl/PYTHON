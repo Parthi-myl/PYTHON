{
  "nbformat": 4,
  "nbformat_minor": 0,
  "metadata": {
    "colab": {
      "provenance": [],
      "authorship_tag": "ABX9TyMNnwdHRI2I98IZjKjTvzJm",
      "include_colab_link": true
    },
    "kernelspec": {
      "name": "python3",
      "display_name": "Python 3"
    },
    "language_info": {
      "name": "python"
    }
  },
  "cells": [
    {
      "cell_type": "markdown",
      "metadata": {
        "id": "view-in-github",
        "colab_type": "text"
      },
      "source": [
        "<a href=\"https://colab.research.google.com/github/Parthiban-Tmn/PYTHON/blob/main/Sum%20a%20persons%20monthly%20saving%20.ipynb\" target=\"_parent\"><img src=\"https://colab.research.google.com/assets/colab-badge.svg\" alt=\"Open In Colab\"/></a>"
      ]
    },
    {
      "cell_type": "markdown",
      "source": [
        "A person saves his monthly saving according to given schema. He saves same amount of money which is equal to the money saved in immediate previous two months. Assume, initially he saved 1000 rupees and in first month he saved another 1000. Your task is to tell how much he had totally saved at the end of ‘n’ months\n",
        "\n",
        "Input Description:\n",
        "You will be given a number ‘n’->No. of months\n",
        "\n",
        "Output Description:\n",
        "Print the total savings at the end of ‘n’ months\n",
        "\n",
        "Sample Input :\n",
        "1\n",
        "Sample output:\n",
        "2000"
      ],
      "metadata": {
        "id": "HCWBkRZoDQkJ"
      }
    },
    {
      "cell_type": "code",
      "source": [
        "n=int(input())\n",
        "sum=[1000]\n",
        "ans=0\n",
        "for i in range(1,(n+1)):\n",
        "  sum.append(i*1000)\n",
        "for j in sum:\n",
        "  ans=ans+j\n",
        "print(ans)"
      ],
      "metadata": {
        "id": "7bTOMcqGDWPi"
      },
      "execution_count": null,
      "outputs": []
    }
  ]
}