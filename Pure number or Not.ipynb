{
  "nbformat": 4,
  "nbformat_minor": 0,
  "metadata": {
    "colab": {
      "provenance": [],
      "authorship_tag": "ABX9TyMW456yH7rNK33eXI9P3RB6",
      "include_colab_link": true
    },
    "kernelspec": {
      "name": "python3",
      "display_name": "Python 3"
    },
    "language_info": {
      "name": "python"
    }
  },
  "cells": [
    {
      "cell_type": "markdown",
      "metadata": {
        "id": "view-in-github",
        "colab_type": "text"
      },
      "source": [
        "<a href=\"https://colab.research.google.com/github/Parthiban-Tmn/PYTHON/blob/main/Pure%20number%20or%20Not.ipynb\" target=\"_parent\"><img src=\"https://colab.research.google.com/assets/colab-badge.svg\" alt=\"Open In Colab\"/></a>"
      ]
    },
    {
      "cell_type": "markdown",
      "source": [
        "You are given a task to tell whether the number is pure or not. A pure number is a number whose sum of digits is multiple of 3.\n",
        "\n",
        "O(1) time and O(1) space\n",
        "\n",
        "Input Description:\n",
        "You are given a number n.\n",
        "\n",
        "Output Description:\n",
        "Print yes if it is pure else not\n",
        "\n",
        "Sample Input :\n",
        "13\n",
        "Sample Output :\n",
        "not"
      ],
      "metadata": {
        "id": "HCWBkRZoDQkJ"
      }
    },
    {
      "cell_type": "code",
      "source": [
        "n=int(input())\n",
        "if n%3==0:\n",
        "    print('yes')\n",
        "else:\n",
        "    print('not')"
      ],
      "metadata": {
        "id": "7bTOMcqGDWPi"
      },
      "execution_count": null,
      "outputs": []
    }
  ]
}