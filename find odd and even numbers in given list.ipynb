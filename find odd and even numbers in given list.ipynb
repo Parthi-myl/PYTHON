{
  "nbformat": 4,
  "nbformat_minor": 0,
  "metadata": {
    "colab": {
      "provenance": [],
      "authorship_tag": "ABX9TyOYobfY89zNgB0McJWkT5wC",
      "include_colab_link": true
    },
    "kernelspec": {
      "name": "python3",
      "display_name": "Python 3"
    },
    "language_info": {
      "name": "python"
    }
  },
  "cells": [
    {
      "cell_type": "markdown",
      "metadata": {
        "id": "view-in-github",
        "colab_type": "text"
      },
      "source": [
        "<a href=\"https://colab.research.google.com/github/Parthiban-Tmn/PYTHON/blob/main/find%20odd%20and%20even%20numbers%20in%20given%20list.ipynb\" target=\"_parent\"><img src=\"https://colab.research.google.com/assets/colab-badge.svg\" alt=\"Open In Colab\"/></a>"
      ]
    },
    {
      "cell_type": "markdown",
      "source": [
        "Given a number n followed by n numbers find whether it is odd or even\n",
        "\n",
        "Input Description:\n",
        "0<n<100 Given a number n Followed by n number in next line\n",
        "\n",
        "Output Description:\n",
        "Print whether odd or even\n",
        "\n",
        "Sample Input :\n",
        "3\n",
        "5 7 4\n",
        "\n",
        "Sample Output :\n",
        "odd odd even"
      ],
      "metadata": {
        "id": "vPoa4cj_rPGY"
      }
    },
    {
      "cell_type": "code",
      "execution_count": 2,
      "metadata": {
        "colab": {
          "base_uri": "https://localhost:8080/"
        },
        "id": "L8RXi5T4qoOX",
        "outputId": "86dde577-4793-48a6-d63e-cba981e8b49e"
      },
      "outputs": [
        {
          "output_type": "stream",
          "name": "stdout",
          "text": [
            "3\n",
            "4 5 6\n",
            "even odd even\n"
          ]
        }
      ],
      "source": [
        "n=int(input())\n",
        "numbers=list(map(int,input().split()))\n",
        "ans=[]\n",
        "for i in numbers:\n",
        "  if i%2==0:\n",
        "    ans.append('even')\n",
        "  else:\n",
        "    ans.append('odd')\n",
        "print(*ans)"
      ]
    }
  ]
}