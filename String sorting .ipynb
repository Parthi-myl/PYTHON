{
  "nbformat": 4,
  "nbformat_minor": 0,
  "metadata": {
    "colab": {
      "provenance": [],
      "authorship_tag": "ABX9TyO8y3dCSJllGOyBVSIWq1oc",
      "include_colab_link": true
    },
    "kernelspec": {
      "name": "python3",
      "display_name": "Python 3"
    },
    "language_info": {
      "name": "python"
    }
  },
  "cells": [
    {
      "cell_type": "markdown",
      "metadata": {
        "id": "view-in-github",
        "colab_type": "text"
      },
      "source": [
        "<a href=\"https://colab.research.google.com/github/Parthiban-Tmn/PYTHON/blob/main/String%20sorting%20.ipynb\" target=\"_parent\"><img src=\"https://colab.research.google.com/assets/colab-badge.svg\" alt=\"Open In Colab\"/></a>"
      ]
    },
    {
      "cell_type": "markdown",
      "source": [
        "Ria is a 5 year old girl. Her mother wants to teach her how to sort words in the same order that they appear in a dictionary. She decides to write a program to sort a given set of strings based on their alphabetical order. Help Ria’s mother to complete the program.\n",
        "\n",
        "\n",
        "\n",
        "Input Description:\n",
        "A set of N strings\n",
        "\n",
        "Output Description:\n",
        "Alphabetically sorted set of strings\n",
        "\n",
        "Sample Input :\n",
        "3\n",
        "InfinityWar EndGame Avengers\n",
        "Sample Output :\n",
        "Avengers EndGame InfinityWar"
      ],
      "metadata": {
        "id": "qUX_6O0WJE5b"
      }
    },
    {
      "cell_type": "code",
      "source": [
        "#ascending\n",
        "a=input()\n",
        "N=set(input().split())\n",
        "li=sorted(N)\n",
        "print(\" \".join(li))"
      ],
      "metadata": {
        "colab": {
          "base_uri": "https://localhost:8080/"
        },
        "id": "Nz2eiCGCJIhj",
        "outputId": "362cbffa-fa01-4678-f56d-5b9fad0b0bf5"
      },
      "execution_count": 5,
      "outputs": [
        {
          "output_type": "stream",
          "name": "stdout",
          "text": [
            "3\n",
            "InfinityWar EndGame Avengers\n",
            "Avengers EndGame InfinityWar\n"
          ]
        }
      ]
    },
    {
      "cell_type": "code",
      "source": [
        "#descending\n",
        "a=input()\n",
        "N=set(input().split())\n",
        "li=sorted(N,reverse=True)\n",
        "print(\" \".join(li))"
      ],
      "metadata": {
        "colab": {
          "base_uri": "https://localhost:8080/"
        },
        "id": "iMkFKZgMYDuw",
        "outputId": "ae5957e9-adbf-40de-9091-f0181f79e9fa"
      },
      "execution_count": 6,
      "outputs": [
        {
          "output_type": "stream",
          "name": "stdout",
          "text": [
            "3\n",
            "InfinityWar EndGame Avengers\n",
            "InfinityWar EndGame Avengers\n"
          ]
        }
      ]
    }
  ]
}