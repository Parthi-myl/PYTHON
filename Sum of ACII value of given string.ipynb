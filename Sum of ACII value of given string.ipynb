{
  "nbformat": 4,
  "nbformat_minor": 0,
  "metadata": {
    "colab": {
      "provenance": [],
      "authorship_tag": "ABX9TyNVM2sICAQPYSJOnAB3kYzl",
      "include_colab_link": true
    },
    "kernelspec": {
      "name": "python3",
      "display_name": "Python 3"
    },
    "language_info": {
      "name": "python"
    }
  },
  "cells": [
    {
      "cell_type": "markdown",
      "metadata": {
        "id": "view-in-github",
        "colab_type": "text"
      },
      "source": [
        "<a href=\"https://colab.research.google.com/github/Parthiban-Tmn/PYTHON/blob/main/Sum%20of%20ACII%20value%20of%20given%20string.ipynb\" target=\"_parent\"><img src=\"https://colab.research.google.com/assets/colab-badge.svg\" alt=\"Open In Colab\"/></a>"
      ]
    },
    {
      "cell_type": "markdown",
      "source": [
        "Given a string 'S' print the sum of weight of the String. A weight of character is defined as the ASCII value of corresponding character.\n",
        "\n",
        "Input Description:\n",
        "You are given a string ‘s’\n",
        "\n",
        "Output Description:\n",
        "Print weight\n",
        "\n",
        "Sample Input :\n",
        "abc\n",
        "Sample Output :\n",
        "294"
      ],
      "metadata": {
        "id": "qUX_6O0WJE5b"
      }
    },
    {
      "cell_type": "code",
      "source": [
        "s=input()\n",
        "g=0\n",
        "for i in s:\n",
        "    g=g+int(ord(i))\n",
        "print(g)"
      ],
      "metadata": {
        "colab": {
          "base_uri": "https://localhost:8080/"
        },
        "id": "Nz2eiCGCJIhj",
        "outputId": "df68bdec-331f-480e-804e-8b9fdca56058"
      },
      "execution_count": 2,
      "outputs": [
        {
          "output_type": "stream",
          "name": "stdout",
          "text": [
            "abc\n",
            "294\n"
          ]
        }
      ]
    }
  ]
}