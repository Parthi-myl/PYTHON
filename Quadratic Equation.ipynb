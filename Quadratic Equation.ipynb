{
 "cells": [
  {
   "cell_type": "code",
   "execution_count": 6,
   "id": "1bc1a956",
   "metadata": {
    "scrolled": false
   },
   "outputs": [
    {
     "data": {
      "text/plain": [
       "\"\\nDharacharya's Method Quadratic Equation:\\nx=(-b+√(b^2 - 4ac)/2a\\nx=(-b-√(b^2 - 4ac)/2a\\n\""
      ]
     },
     "execution_count": 6,
     "metadata": {},
     "output_type": "execute_result"
    }
   ],
   "source": []
  },
  {
   "cell_type": "markdown",
   "id": "54229580",
   "metadata": {},
   "source": [
    "You are given the coefficients of a quadratic equation in order A, B & C.\n",
    "\n",
    "Where A is the coefficient of X2,  B is the coefficient of X and C is the constant term in the most simplified form.\n",
    "\n",
    "Example: For  X2 + 5X + 6 = 0, you are given the input as: 1 5 6.\n",
    "\n",
    "Write a program to find all of the roots of the quadratic.\n",
    "\n",
    "Note: The output should be up to 2nd decimal place (round off if needed) and in case of a recurring decimal use braces i.e. for eg: 0.33333..... => 0.33.\n",
    "\n",
    "Sample Input :\n",
    "1 5 6\n",
    "\n",
    "Sample Output :\n",
    "-2.00\n",
    "-3.00\n"
   ]
  },
  {
   "cell_type": "code",
   "execution_count": 7,
   "id": "70812dc7",
   "metadata": {},
   "outputs": [
    {
     "name": "stdout",
     "output_type": "stream",
     "text": [
      "1 5 6\n",
      "-2.00\n",
      "-3.00\n"
     ]
    }
   ],
   "source": [
    "'''\n",
    "Dharacharya's Method Quadratic Equation:\n",
    "x=(-b+√(b^2 - 4ac)/2a\n",
    "x=(-b-√(b^2 - 4ac)/2a\n",
    "'''\n",
    "import math\n",
    "a,b,c=map(int,input().split())\n",
    "d=(b**2)-(4*a*c)\n",
    "ans1=(-b+math.sqrt(d))/(2*a)\n",
    "ans2=(-b-math.sqrt(d))/(2*a)\n",
    "print(\"%.2f\"%ans1)\n",
    "print(\"%.2f\"%ans2)"
   ]
  },
  {
   "cell_type": "code",
   "execution_count": null,
   "id": "22e5a936",
   "metadata": {},
   "outputs": [],
   "source": []
  }
 ],
 "metadata": {
  "kernelspec": {
   "display_name": "Python 3 (ipykernel)",
   "language": "python",
   "name": "python3"
  },
  "language_info": {
   "codemirror_mode": {
    "name": "ipython",
    "version": 3
   },
   "file_extension": ".py",
   "mimetype": "text/x-python",
   "name": "python",
   "nbconvert_exporter": "python",
   "pygments_lexer": "ipython3",
   "version": "3.11.5"
  }
 },
 "nbformat": 4,
 "nbformat_minor": 5
}
