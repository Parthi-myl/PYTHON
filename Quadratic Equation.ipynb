{
  "nbformat": 4,
  "nbformat_minor": 0,
  "metadata": {
    "colab": {
      "provenance": [],
      "authorship_tag": "ABX9TyOa4OtErZazzlZbylzQKTwH"
    },
    "kernelspec": {
      "name": "python3",
      "display_name": "Python 3"
    },
    "language_info": {
      "name": "python"
    }
  },
  "cells": [
    {
      "cell_type": "markdown",
      "source": [
        "\n",
        "You are given the coefficients of a quadratic equation in order A, B & C.\n",
        "\n",
        "Where A is the coefficient of X2, B is the coefficient of X and C is the constant term in the most simplified form.\n",
        "\n",
        "Example: For X2 + 5X + 6 = 0, you are given the input as: 1 5 6.\n",
        "\n",
        "Write a program to find all of the roots of the quadratic.\n",
        "\n",
        "Note: The output should be up to 2nd decimal place (round off if needed) and in case of a recurring decimal use braces i.e. for eg: 0.33333..... => 0.33.\n",
        "\n",
        "Sample Input : 1 5 6\n",
        "\n",
        "Sample Output : -2.00 -3.00"
      ],
      "metadata": {
        "id": "dTlCKHr7o3mn"
      }
    },
    {
      "cell_type": "code",
      "source": [
        "'''\n",
        "Dharacharya's Method Quadratic Equation:\n",
        "x=(-b+√(b^2 - 4ac)/2a\n",
        "x=(-b-√(b^2 - 4ac)/2a\n",
        "'''\n",
        "import math\n",
        "a,b,c=map(int,input().split())\n",
        "d=(b**2)-(4*a*c)\n",
        "ans1=(-b+math.sqrt(d))/(2*a)\n",
        "ans2=(-b-math.sqrt(d))/(2*a)\n",
        "print(\"%.2f\"%ans1)\n",
        "print(\"%.2f\"%ans2)"
      ],
      "metadata": {
        "id": "9xycasWFo1V9"
      },
      "execution_count": null,
      "outputs": []
    }
  ]
}