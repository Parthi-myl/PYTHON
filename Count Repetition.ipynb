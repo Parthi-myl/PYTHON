{
  "nbformat": 4,
  "nbformat_minor": 0,
  "metadata": {
    "colab": {
      "provenance": [],
      "authorship_tag": "ABX9TyNfDRBmXQwuSfdY7uaMN1hZ",
      "include_colab_link": true
    },
    "kernelspec": {
      "name": "python3",
      "display_name": "Python 3"
    },
    "language_info": {
      "name": "python"
    }
  },
  "cells": [
    {
      "cell_type": "markdown",
      "metadata": {
        "id": "view-in-github",
        "colab_type": "text"
      },
      "source": [
        "<a href=\"https://colab.research.google.com/github/Parthiban-Tmn/PYTHON/blob/main/Count%20Repetition.ipynb\" target=\"_parent\"><img src=\"https://colab.research.google.com/assets/colab-badge.svg\" alt=\"Open In Colab\"/></a>"
      ]
    },
    {
      "cell_type": "markdown",
      "source": [
        "Given 2 numbers N and K followed by N elements,print the number of repetition of K otherwise print '-1' if the element not found.\n",
        "Sample Testcase :\n",
        "INPUT\n",
        "6 2\n",
        "1 2 3 5 7 8\n",
        "OUTPUT\n",
        "0"
      ],
      "metadata": {
        "id": "JbuxfZ56utvq"
      }
    },
    {
      "cell_type": "code",
      "source": [
        "N,K=map(int,input().split())\n",
        "L=list(map(int,input().split()))\n",
        "c=L.count(K)\n",
        "if c==1:\n",
        "    print(0)\n",
        "elif c>1:\n",
        "    print(c)\n",
        "else:\n",
        "    print(-1)"
      ],
      "metadata": {
        "id": "acgOkm9_ur5X"
      },
      "execution_count": null,
      "outputs": []
    }
  ]
}