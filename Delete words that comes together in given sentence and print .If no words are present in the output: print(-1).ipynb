{
  "nbformat": 4,
  "nbformat_minor": 0,
  "metadata": {
    "colab": {
      "provenance": [],
      "authorship_tag": "ABX9TyMi0xLJnY2dbOt/+JUSGOnA",
      "include_colab_link": true
    },
    "kernelspec": {
      "name": "python3",
      "display_name": "Python 3"
    },
    "language_info": {
      "name": "python"
    }
  },
  "cells": [
    {
      "cell_type": "markdown",
      "metadata": {
        "id": "view-in-github",
        "colab_type": "text"
      },
      "source": [
        "<a href=\"https://colab.research.google.com/github/Parthiban-Tmn/PYTHON/blob/main/Delete%20words%20that%20comes%20together%20in%20given%20sentence%20and%20print%20.If%20no%20words%20are%20present%20in%20the%20output%3A%20print(-1).ipynb\" target=\"_parent\"><img src=\"https://colab.research.google.com/assets/colab-badge.svg\" alt=\"Open In Colab\"/></a>"
      ]
    },
    {
      "cell_type": "markdown",
      "source": [
        "Joyal was given a sentence. His task is to delete the two words that comes together and print the sentence so that the words in the output sentence have distinct words compared to their adjacent words. If no words are present in the output sentence print -1\n",
        "\n",
        "Input Description:\n",
        "You are given input string 'S'\n",
        "\n",
        "Output Description:\n",
        "Print the all the words that are left in the string 's' so that the words in the output sentence have distinct words compared to their adjacent words. Print -1 if no words are left\n",
        "\n",
        "Sample Input :\n",
        "I am john cena cena john\n",
        "Sample Output :\n",
        "I am"
      ],
      "metadata": {
        "id": "IOUoSh4aP3iY"
      }
    },
    {
      "cell_type": "code",
      "source": [
        "S=input().split()\n",
        "R=[]\n",
        "for i in S:\n",
        "    if not R or i != R[-1]:\n",
        "        R.append(i)\n",
        "    else:\n",
        "        R.pop()\n",
        "Result=\" \".join(R)\n",
        "print(Result)"
      ],
      "metadata": {
        "id": "dE5rIwgOP4nS"
      },
      "execution_count": null,
      "outputs": []
    }
  ]
}