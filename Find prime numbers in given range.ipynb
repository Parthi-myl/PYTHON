{
  "nbformat": 4,
  "nbformat_minor": 0,
  "metadata": {
    "colab": {
      "provenance": [],
      "authorship_tag": "ABX9TyOJapW0aeMQmfoRVj8u8/zF",
      "include_colab_link": true
    },
    "kernelspec": {
      "name": "python3",
      "display_name": "Python 3"
    },
    "language_info": {
      "name": "python"
    }
  },
  "cells": [
    {
      "cell_type": "markdown",
      "metadata": {
        "id": "view-in-github",
        "colab_type": "text"
      },
      "source": [
        "<a href=\"https://colab.research.google.com/github/Parthiban-Tmn/PYTHON/blob/main/FIND%20PRIME%20NUMBERS%20IN%20GIVEN%20RANGE.ipynb\" target=\"_parent\"><img src=\"https://colab.research.google.com/assets/colab-badge.svg\" alt=\"Open In Colab\"/></a>"
      ]
    },
    {
      "cell_type": "markdown",
      "source": [
        "Given a range of 2 numbers (i.e) L and R count the number of prime numbers in the range (inclusive of L and R )."
      ],
      "metadata": {
        "id": "JbuxfZ56utvq"
      }
    },
    {
      "cell_type": "code",
      "source": [
        "L,R=input().split()\n",
        "L=int(L)\n",
        "R=int(R)\n",
        "d=[]\n",
        "if L<=R and R<=100000:\n",
        "    for i in range(L,R+1):\n",
        "        if i==2 or i%2!=0:\n",
        "            d.append(i)\n",
        "        else:\n",
        "            continue\n",
        "else:\n",
        "    print(\"error\")\n",
        "print(*d)"
      ],
      "metadata": {
        "id": "acgOkm9_ur5X"
      },
      "execution_count": null,
      "outputs": []
    }
  ]
}
