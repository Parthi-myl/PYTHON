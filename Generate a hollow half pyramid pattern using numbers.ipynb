{
  "nbformat": 4,
  "nbformat_minor": 0,
  "metadata": {
    "colab": {
      "provenance": [],
      "authorship_tag": "ABX9TyPY66154CqUHvAe9s8h43NS",
      "include_colab_link": true
    },
    "kernelspec": {
      "name": "python3",
      "display_name": "Python 3"
    },
    "language_info": {
      "name": "python"
    }
  },
  "cells": [
    {
      "cell_type": "markdown",
      "metadata": {
        "id": "view-in-github",
        "colab_type": "text"
      },
      "source": [
        "<a href=\"https://colab.research.google.com/github/Parthiban-Tmn/PYTHON/blob/main/Generate%20a%20hollow%20half%20pyramid%20pattern%20using%20numbers.ipynb\" target=\"_parent\"><img src=\"https://colab.research.google.com/assets/colab-badge.svg\" alt=\"Open In Colab\"/></a>"
      ]
    },
    {
      "cell_type": "markdown",
      "source": [
        "Generate a hollow half pyramid pattern using numbers.\n",
        "\n",
        "Input Description:\n",
        "Given an integer R indicates number of rows.\n",
        "\n",
        "Where 1<=R<=100.\n",
        "\n",
        "Output Description:\n",
        "Print the hollow half pyramid pattern using numbers based on the given integer R.\n",
        "\n",
        "Sample Input :\n",
        "5\n",
        "\n",
        "\n",
        "Sample Output :\n",
        "1\n",
        "12\n",
        "1 3\n",
        "1  4\n",
        "12345\n",
        "\n",
        "\n",
        "\n",
        "\n"
      ],
      "metadata": {
        "id": "do-L7bouIdtR"
      }
    },
    {
      "cell_type": "code",
      "source": [
        "rows=int(input())\n",
        "for i in range(1, rows + 1):\n",
        "    for j in range(1, i + 1):\n",
        "        if j == 1 or j == i or i == rows:\n",
        "            print(j, end=\"\")\n",
        "        else:\n",
        "            print(\" \", end=\"\")\n",
        "    print()"
      ],
      "metadata": {
        "colab": {
          "base_uri": "https://localhost:8080/"
        },
        "id": "6hamPmZ-IaU6",
        "outputId": "995760ef-e6e0-4218-d4fb-72035ced2dbc"
      },
      "execution_count": 2,
      "outputs": [
        {
          "output_type": "stream",
          "name": "stdout",
          "text": [
            "9\n",
            "1\n",
            "12\n",
            "1 3\n",
            "1  4\n",
            "1   5\n",
            "1    6\n",
            "1     7\n",
            "1      8\n",
            "123456789\n"
          ]
        }
      ]
    },
    {
      "cell_type": "code",
      "source": [],
      "metadata": {
        "id": "sWLcLR_XIaXn"
      },
      "execution_count": null,
      "outputs": []
    }
  ]
}