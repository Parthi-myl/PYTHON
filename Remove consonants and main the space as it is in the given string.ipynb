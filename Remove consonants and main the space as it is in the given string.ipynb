{
  "nbformat": 4,
  "nbformat_minor": 0,
  "metadata": {
    "colab": {
      "provenance": [],
      "authorship_tag": "ABX9TyNHK20E7nCjFwygs7s7lEK3",
      "include_colab_link": true
    },
    "kernelspec": {
      "name": "python3",
      "display_name": "Python 3"
    },
    "language_info": {
      "name": "python"
    }
  },
  "cells": [
    {
      "cell_type": "markdown",
      "metadata": {
        "id": "view-in-github",
        "colab_type": "text"
      },
      "source": [
        "<a href=\"https://colab.research.google.com/github/Parthiban-Tmn/PYTHON/blob/main/Remove%20consonants%20and%20main%20the%20space%20as%20it%20is%20in%20the%20given%20string.ipynb\" target=\"_parent\"><img src=\"https://colab.research.google.com/assets/colab-badge.svg\" alt=\"Open In Colab\"/></a>"
      ]
    },
    {
      "cell_type": "markdown",
      "source": [
        "You are given a string.Your task is to print only the consonants present in the string without affecting the sentence spacings if present. If no consonants are present print -1\n",
        "\n",
        "Input Description:\n",
        "You are given a string ‘s’.\n",
        "\n",
        "Output Description:\n",
        "Print only consonants.\n",
        "\n",
        "Sample Input :\n",
        "I am shrey\n",
        "Sample Output :\n",
        " m shry"
      ],
      "metadata": {
        "id": "wV3MRFf6qDWg"
      }
    },
    {
      "cell_type": "code",
      "execution_count": 25,
      "metadata": {
        "colab": {
          "base_uri": "https://localhost:8080/"
        },
        "id": "MsPO83l-afyM",
        "outputId": "acc593b1-9b79-4495-90c5-c0084cb13f7c"
      },
      "outputs": [
        {
          "output_type": "stream",
          "name": "stdout",
          "text": [
            "i am shrey\n",
            " m shry\n"
          ]
        }
      ],
      "source": [
        "s=list(input())\n",
        "a=['a','e','i','o','u']\n",
        "b=['A','E','I','O','U']\n",
        "output=[]\n",
        "for i in s:\n",
        "    if i not in a and i not in b:\n",
        "        output.append(i)\n",
        "    else:\n",
        "        continue\n",
        "output=\"\".join(output)\n",
        "print(output)"
      ]
    }
  ]
}